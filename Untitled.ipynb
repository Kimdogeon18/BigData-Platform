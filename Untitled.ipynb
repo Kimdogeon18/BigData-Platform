{
 "cells": [
  {
   "cell_type": "code",
   "execution_count": 1,
   "id": "5c85af70",
   "metadata": {
    "scrolled": true
   },
   "outputs": [
    {
     "data": {
      "text/plain": [
       "'김도건'"
      ]
     },
     "execution_count": 1,
     "metadata": {},
     "output_type": "execute_result"
    }
   ],
   "source": [
    "'김도건'"
   ]
  },
  {
   "cell_type": "code",
   "execution_count": 3,
   "id": "0e6e2fb7",
   "metadata": {},
   "outputs": [
    {
     "data": {
      "text/plain": [
       "4545"
      ]
     },
     "execution_count": 3,
     "metadata": {},
     "output_type": "execute_result"
    }
   ],
   "source": [
    "4545"
   ]
  },
  {
   "cell_type": "code",
   "execution_count": null,
   "id": "786b79f6",
   "metadata": {},
   "outputs": [],
   "source": []
  }
 ],
 "metadata": {
  "kernelspec": {
   "display_name": "Python 3 (ipykernel)",
   "language": "python",
   "name": "python3"
  },
  "language_info": {
   "codemirror_mode": {
    "name": "ipython",
    "version": 3
   },
   "file_extension": ".py",
   "mimetype": "text/x-python",
   "name": "python",
   "nbconvert_exporter": "python",
   "pygments_lexer": "ipython3",
   "version": "3.11.5"
  }
 },
 "nbformat": 4,
 "nbformat_minor": 5
}
