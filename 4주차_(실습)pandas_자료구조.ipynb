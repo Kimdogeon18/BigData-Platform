{
 "cells": [
  {
   "cell_type": "markdown",
   "metadata": {
    "id": "ZHEN92j1C5st"
   },
   "source": [
    "###다음 데이터를 활용하여 pandas의 Series와  DataFrame을 사용하여 정형 데이터를 생성하세요.\n",
    "*   데이터: 2022년 7월 기준으로 서울시 공공자전거 대여소별 이용정보중 일부분"
   ]
  },
  {
   "cell_type": "code",
   "execution_count": 1,
   "metadata": {
    "id": "7sSStTRuCUGa"
   },
   "outputs": [],
   "source": [
    "자치구 = ['강남구','강동구','강북구','강서구']\n",
    "대여소명 = ['2301. 현대고등학교 건너편','1002. 해공공원(천호동)','1512. 강북중학교 앞','1106. 신방화사거리']\n",
    "대여건수 = [2170, 3085, 2468, 4883]\n",
    "반납건수 = [2183, 3111, 2489, 5307]\n",
    "\n",
    "열정보 = ['자치구','대여소명','대여건수','반납건수']\n",
    "이용정보 = [['강남구','2301. 현대고등학교 건너편',2170, 2183],\n",
    "            ['강동구','1002. 해공공원(천호동)', 3085, 3111],\n",
    "            ['강북구','1512. 강북중학교 앞', 2468, 2489 ],\n",
    "            ['강서구','1106. 신방화사거리', 4883 , 5307 ]\n",
    "           ]"
   ]
  },
  {
   "cell_type": "markdown",
   "metadata": {
    "id": "KDjFvl5WDbYx"
   },
   "source": [
    "###1.데이터 관리를 위한 라이브러리 선언"
   ]
  },
  {
   "cell_type": "code",
   "execution_count": 2,
   "metadata": {
    "id": "IEnHevgm_d8C"
   },
   "outputs": [],
   "source": [
    "#import pandas as pd\n",
    "\n",
    "import pandas as pd"
   ]
  },
  {
   "cell_type": "markdown",
   "metadata": {
    "id": "BoD0RV2DDpCC"
   },
   "source": [
    "##2.Series 생성하기"
   ]
  },
  {
   "cell_type": "markdown",
   "metadata": {
    "id": "FeN7qx2VE7ZH"
   },
   "source": [
    "###1)index 자동 부여"
   ]
  },
  {
   "cell_type": "code",
   "execution_count": 8,
   "metadata": {
    "id": "CNlPlLhODzZi"
   },
   "outputs": [
    {
     "name": "stdout",
     "output_type": "stream",
     "text": [
      "0    2170\n",
      "1    3085\n",
      "2    2468\n",
      "3    4883\n",
      "dtype: int64\n",
      "2170\n",
      "4883\n"
     ]
    }
   ],
   "source": [
    "#대여건수를 데이터를 Series 로 생성하기\n",
    "\n",
    "#변수명 = pd.Series([데이터들])\n",
    "#데이터 참조는 리스트 참조 방식 사용 : ex)a[1]\n",
    "\n",
    "data = pd.Series([2170, 3085, 2468, 4883])\n",
    "\n",
    "print(data)     #모든 데이터를 출력\n",
    "print(data[0])  #data[0]번째 데이터 출력\n",
    "print(data[3])  #data[3]번째 데이터 출력"
   ]
  },
  {
   "cell_type": "code",
   "execution_count": 10,
   "metadata": {
    "id": "uIxi5StQCKVT"
   },
   "outputs": [
    {
     "name": "stdout",
     "output_type": "stream",
     "text": [
      "0    2183\n",
      "1    3111\n",
      "2    2489\n",
      "3    5307\n",
      "dtype: int64\n",
      "3111\n",
      "2489\n"
     ]
    }
   ],
   "source": [
    "#반납건수를 데이터를 Series 로 생성하기\n",
    "\n",
    "#변수명 = pd.Series(리스트변수명)\n",
    "\n",
    "data = pd.Series(반납건수)\n",
    "\n",
    "print(data)     #모든 데이터를 출력\n",
    "print(data[1])  #data[1]번째 데이터 출력\n",
    "print(data[2])  #data[2]번째 데이터 출력"
   ]
  },
  {
   "cell_type": "markdown",
   "metadata": {
    "id": "9shwZaKAE_X7"
   },
   "source": [
    "###2)index 직접 부여"
   ]
  },
  {
   "cell_type": "code",
   "execution_count": 14,
   "metadata": {
    "id": "fYn8UTyHDlP_"
   },
   "outputs": [
    {
     "name": "stdout",
     "output_type": "stream",
     "text": [
      "강남구    2170\n",
      "강동구    3085\n",
      "강북구    2468\n",
      "강서구    4883\n",
      "dtype: int64\n",
      "2170\n",
      "4883\n",
      "['강남구']\n",
      "['강서구']\n"
     ]
    }
   ],
   "source": [
    "#대여건수를 데이터를 Series 로 생성하기\n",
    "#각 index의 이름은 '강남구','강동구','강북구','강서구'로 지정\n",
    "\n",
    "#변수명 = pd.Series([데이터], index=[index이름])\n",
    "#index이름은 데이터 갯수만큼 생성\n",
    "\n",
    "data = pd.Series ([2170, 3085, 2468, 4883], index=['강남구','강동구','강북구','강서구'])\n",
    "print(data)\n",
    "print(data[0])  #data[0]번째 데이터 출력\n",
    "print(data[3])  #data[3]번째 데이터 출력\n",
    "print(['강남구'])  #data['강남구']번째 데이터 출력\n",
    "print(['강서구'])  #data['강서구']번째 데이터 출력"
   ]
  },
  {
   "cell_type": "code",
   "execution_count": 19,
   "metadata": {
    "id": "aku0siGUCRBZ"
   },
   "outputs": [
    {
     "name": "stdout",
     "output_type": "stream",
     "text": [
      "강남구    2183\n",
      "강동구    3111\n",
      "강북구    2489\n",
      "강서구    5307\n",
      "dtype: int64\n",
      "2183\n",
      "5307\n",
      "2183\n",
      "5307\n"
     ]
    }
   ],
   "source": [
    "#반납건수를 데이터를 Series 로 생성하기\n",
    "#각 index의 이름은 '강남구','강동구','강북구','강서구'로 지정\n",
    "\n",
    "#변수명 = pd.Series(리스트변수명, index=리스트변수명)\n",
    "#index이름은 데이터 개수만큼 생성\n",
    "\n",
    "data = pd.Series(반납건수, index = 자치구) \n",
    "print(data)\n",
    "print(data[0])  #data[0]번째 데이터 출력\n",
    "print(data[3])  #data[3]번째 데이터 출력\n",
    "print(data['강남구'])  #data['강남구']번째 데이터 출력\n",
    "print(data['강서구'])  #data['강서구']번째 데이터 출력"
   ]
  },
  {
   "cell_type": "markdown",
   "metadata": {
    "id": "23TNJMv2Duxj"
   },
   "source": [
    "##3.DataFrame 생성하기"
   ]
  },
  {
   "cell_type": "markdown",
   "metadata": {
    "id": "SY1iIzbGGXOn"
   },
   "source": [
    "###1)Dictionary 를 활용한 DataFrame 생성"
   ]
  },
  {
   "cell_type": "code",
   "execution_count": 23,
   "metadata": {
    "id": "lWfOCJDLGXzW"
   },
   "outputs": [
    {
     "data": {
      "text/html": [
       "<div>\n",
       "<style scoped>\n",
       "    .dataframe tbody tr th:only-of-type {\n",
       "        vertical-align: middle;\n",
       "    }\n",
       "\n",
       "    .dataframe tbody tr th {\n",
       "        vertical-align: top;\n",
       "    }\n",
       "\n",
       "    .dataframe thead th {\n",
       "        text-align: right;\n",
       "    }\n",
       "</style>\n",
       "<table border=\"1\" class=\"dataframe\">\n",
       "  <thead>\n",
       "    <tr style=\"text-align: right;\">\n",
       "      <th></th>\n",
       "      <th>자치구</th>\n",
       "      <th>대여소명</th>\n",
       "      <th>대여건수</th>\n",
       "      <th>반납건수</th>\n",
       "    </tr>\n",
       "  </thead>\n",
       "  <tbody>\n",
       "    <tr>\n",
       "      <th>0</th>\n",
       "      <td>강남구</td>\n",
       "      <td>2301. 현대고등학교 건너편</td>\n",
       "      <td>2170</td>\n",
       "      <td>2183</td>\n",
       "    </tr>\n",
       "    <tr>\n",
       "      <th>1</th>\n",
       "      <td>강동구</td>\n",
       "      <td>1002. 해공공원(천호동)</td>\n",
       "      <td>3085</td>\n",
       "      <td>3111</td>\n",
       "    </tr>\n",
       "    <tr>\n",
       "      <th>2</th>\n",
       "      <td>강북구</td>\n",
       "      <td>1512. 강북중학교 앞</td>\n",
       "      <td>2468</td>\n",
       "      <td>2489</td>\n",
       "    </tr>\n",
       "    <tr>\n",
       "      <th>3</th>\n",
       "      <td>강서구</td>\n",
       "      <td>1106. 신방화사거리</td>\n",
       "      <td>4883</td>\n",
       "      <td>5307</td>\n",
       "    </tr>\n",
       "  </tbody>\n",
       "</table>\n",
       "</div>"
      ],
      "text/plain": [
       "   자치구              대여소명  대여건수  반납건수\n",
       "0  강남구  2301. 현대고등학교 건너편  2170  2183\n",
       "1  강동구   1002. 해공공원(천호동)  3085  3111\n",
       "2  강북구     1512. 강북중학교 앞  2468  2489\n",
       "3  강서구      1106. 신방화사거리  4883  5307"
      ]
     },
     "execution_count": 23,
     "metadata": {},
     "output_type": "execute_result"
    }
   ],
   "source": [
    "#자치구, 대여소명, 대여건수, 반납건수를 활용하여 DataFrame 생성하기\n",
    "#pd.DataFrame({'key1':value1, 'key2':value2, …})\n",
    "#key : 열이름(변수명)\n",
    "#value : 열이름에 해당하는 데이터들(리스트)\n",
    "\n",
    "data = pd.DataFrame({'자치구':자치구,'대여소명':대여소명,'대여건수':대여건수,'반납건수':반납건수})\n",
    "data"
   ]
  },
  {
   "cell_type": "markdown",
   "metadata": {
    "id": "Rm58tXCbGlZx"
   },
   "source": [
    "###2)2차원 리스트와 columns 속성을 활용한 DataFrame 생성"
   ]
  },
  {
   "cell_type": "code",
   "execution_count": 28,
   "metadata": {
    "id": "cK1BsE3MGuKw"
   },
   "outputs": [
    {
     "data": {
      "text/html": [
       "<div>\n",
       "<style scoped>\n",
       "    .dataframe tbody tr th:only-of-type {\n",
       "        vertical-align: middle;\n",
       "    }\n",
       "\n",
       "    .dataframe tbody tr th {\n",
       "        vertical-align: top;\n",
       "    }\n",
       "\n",
       "    .dataframe thead th {\n",
       "        text-align: right;\n",
       "    }\n",
       "</style>\n",
       "<table border=\"1\" class=\"dataframe\">\n",
       "  <thead>\n",
       "    <tr style=\"text-align: right;\">\n",
       "      <th></th>\n",
       "      <th>자치구</th>\n",
       "      <th>대여소명</th>\n",
       "      <th>대여건수</th>\n",
       "      <th>반납건수</th>\n",
       "    </tr>\n",
       "  </thead>\n",
       "  <tbody>\n",
       "    <tr>\n",
       "      <th>0</th>\n",
       "      <td>강남구</td>\n",
       "      <td>2301. 현대고등학교 건너편</td>\n",
       "      <td>2170</td>\n",
       "      <td>2183</td>\n",
       "    </tr>\n",
       "    <tr>\n",
       "      <th>1</th>\n",
       "      <td>강동구</td>\n",
       "      <td>1002. 해공공원(천호동)</td>\n",
       "      <td>3085</td>\n",
       "      <td>3111</td>\n",
       "    </tr>\n",
       "    <tr>\n",
       "      <th>2</th>\n",
       "      <td>강북구</td>\n",
       "      <td>1512. 강북중학교 앞</td>\n",
       "      <td>2468</td>\n",
       "      <td>2489</td>\n",
       "    </tr>\n",
       "    <tr>\n",
       "      <th>3</th>\n",
       "      <td>강서구</td>\n",
       "      <td>1106. 신방화사거리</td>\n",
       "      <td>4883</td>\n",
       "      <td>5307</td>\n",
       "    </tr>\n",
       "  </tbody>\n",
       "</table>\n",
       "</div>"
      ],
      "text/plain": [
       "   자치구              대여소명  대여건수  반납건수\n",
       "0  강남구  2301. 현대고등학교 건너편  2170  2183\n",
       "1  강동구   1002. 해공공원(천호동)  3085  3111\n",
       "2  강북구     1512. 강북중학교 앞  2468  2489\n",
       "3  강서구      1106. 신방화사거리  4883  5307"
      ]
     },
     "execution_count": 28,
     "metadata": {},
     "output_type": "execute_result"
    }
   ],
   "source": [
    "#이용정보와 열정보를 활용하여 DataFrame 생성하기\n",
    "\n",
    "#pd.DataFrame([데이터들], columns=['열이름들'])\n",
    "#데이터들 : 각 열의 데이터들(리스트)\n",
    "#열이름들 : 각 열의 변수명\n",
    "\n",
    "data = pd.DataFrame([['강남구','2301. 현대고등학교 건너편',2170, 2183],\n",
    "            ['강동구','1002. 해공공원(천호동)', 3085, 3111],\n",
    "            ['강북구','1512. 강북중학교 앞', 2468, 2489 ],\n",
    "            ['강서구','1106. 신방화사거리', 4883 , 5307 ]\n",
    "            ],columns=['자치구','대여소명','대여건수','반납건수'])\n",
    "\n",
    "\n",
    "\n",
    "\n",
    "data"
   ]
  },
  {
   "cell_type": "code",
   "execution_count": 29,
   "metadata": {
    "id": "IAei04hqJhtN"
   },
   "outputs": [
    {
     "data": {
      "text/html": [
       "<div>\n",
       "<style scoped>\n",
       "    .dataframe tbody tr th:only-of-type {\n",
       "        vertical-align: middle;\n",
       "    }\n",
       "\n",
       "    .dataframe tbody tr th {\n",
       "        vertical-align: top;\n",
       "    }\n",
       "\n",
       "    .dataframe thead th {\n",
       "        text-align: right;\n",
       "    }\n",
       "</style>\n",
       "<table border=\"1\" class=\"dataframe\">\n",
       "  <thead>\n",
       "    <tr style=\"text-align: right;\">\n",
       "      <th></th>\n",
       "      <th>자치구</th>\n",
       "      <th>대여소명</th>\n",
       "      <th>대여건수</th>\n",
       "      <th>반납건수</th>\n",
       "    </tr>\n",
       "  </thead>\n",
       "  <tbody>\n",
       "    <tr>\n",
       "      <th>0</th>\n",
       "      <td>강남구</td>\n",
       "      <td>2301. 현대고등학교 건너편</td>\n",
       "      <td>2170</td>\n",
       "      <td>2183</td>\n",
       "    </tr>\n",
       "    <tr>\n",
       "      <th>1</th>\n",
       "      <td>강동구</td>\n",
       "      <td>1002. 해공공원(천호동)</td>\n",
       "      <td>3085</td>\n",
       "      <td>3111</td>\n",
       "    </tr>\n",
       "    <tr>\n",
       "      <th>2</th>\n",
       "      <td>강북구</td>\n",
       "      <td>1512. 강북중학교 앞</td>\n",
       "      <td>2468</td>\n",
       "      <td>2489</td>\n",
       "    </tr>\n",
       "    <tr>\n",
       "      <th>3</th>\n",
       "      <td>강서구</td>\n",
       "      <td>1106. 신방화사거리</td>\n",
       "      <td>4883</td>\n",
       "      <td>5307</td>\n",
       "    </tr>\n",
       "  </tbody>\n",
       "</table>\n",
       "</div>"
      ],
      "text/plain": [
       "   자치구              대여소명  대여건수  반납건수\n",
       "0  강남구  2301. 현대고등학교 건너편  2170  2183\n",
       "1  강동구   1002. 해공공원(천호동)  3085  3111\n",
       "2  강북구     1512. 강북중학교 앞  2468  2489\n",
       "3  강서구      1106. 신방화사거리  4883  5307"
      ]
     },
     "execution_count": 29,
     "metadata": {},
     "output_type": "execute_result"
    }
   ],
   "source": [
    "#리스트 변수명 활용\n",
    "\n",
    "data = pd.DataFrame(이용정보,columns=열정보)\n",
    "\n",
    "data"
   ]
  },
  {
   "cell_type": "code",
   "execution_count": null,
   "metadata": {},
   "outputs": [],
   "source": []
  }
 ],
 "metadata": {
  "colab": {
   "provenance": [],
   "toc_visible": true
  },
  "kernelspec": {
   "display_name": "Python 3 (ipykernel)",
   "language": "python",
   "name": "python3"
  },
  "language_info": {
   "codemirror_mode": {
    "name": "ipython",
    "version": 3
   },
   "file_extension": ".py",
   "mimetype": "text/x-python",
   "name": "python",
   "nbconvert_exporter": "python",
   "pygments_lexer": "ipython3",
   "version": "3.11.5"
  }
 },
 "nbformat": 4,
 "nbformat_minor": 1
}
