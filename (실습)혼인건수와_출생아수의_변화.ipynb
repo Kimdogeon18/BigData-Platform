{
 "cells": [
  {
   "cell_type": "markdown",
   "metadata": {
    "id": "cTAbB64S10WO"
   },
   "source": [
    "#2010년도~2021년 혼인건수와 출생아수의 변화 살펴하기\n",
    "**시간이 지날수록 출생아수의 변화가 있는가?**\n",
    "\n",
    "#####1) 혼인건수가 가장 적은 년도와 가장 많은 년도는 언제인가?\n",
    "#####2) 출생아수가 가장 적은 년도와 가장 많은 년도는 언제인가?\n",
    "#####3) 출생아수가 혼인건수에 영향이 있는가?"
   ]
  },
  {
   "cell_type": "markdown",
   "metadata": {
    "id": "voJtYQHb4hsQ"
   },
   "source": [
    "###1.2010년도~2021년도 혼인건수와 출생아수  데이터 읽어오기\n",
    "\n",
    "#####- URL(통계청):https://kosis.kr/statHtml/statHtml.do?orgId=101&tblId=DT_1B8000G\n",
    "#####- 조회설정\n",
    "######행정구역별:전국\n",
    "######종류별:출생아수(명), 혼인건수(건)\n",
    "######시점: 2000년도~2021년도\n",
    "######그외:행렬전환\n"
   ]
  },
  {
   "cell_type": "code",
   "execution_count": null,
   "metadata": {
    "id": "01R_DdrR7HER"
   },
   "outputs": [],
   "source": [
    "#pandas 라이브러리 가져오기\n",
    "\n"
   ]
  },
  {
   "cell_type": "code",
   "execution_count": null,
   "metadata": {
    "id": "LalzR05z5Bu5"
   },
   "outputs": [],
   "source": [
    "#2000년_2021년 출생아수와 혼인건수.csv 화일 읽고 상위 5개 데이터 확인하기\n",
    "#변수명 = pd.read_csv(‘파일경로명’, encoding=‘인코딩방식’header=행번호)\n",
    "#인코딩방식 :EUC_KR(한글이 포함된 일반적인 경우)/cp949(MS office에서 저장한 파일 형식)\n",
    "#header=행번호 : 열이름으로 사용할 행번호 설정\n",
    "\n",
    "data =\n",
    "\n"
   ]
  },
  {
   "cell_type": "markdown",
   "metadata": {
    "id": "bvrRt1eS4qvy"
   },
   "source": [
    "###2.2010년도~2021년도 혼인건수와 출생아수  데이터 확인하기"
   ]
  },
  {
   "cell_type": "code",
   "execution_count": null,
   "metadata": {
    "id": "Ic8Z5oBs56B7"
   },
   "outputs": [],
   "source": [
    "#데이터 정보 확인(행열개수, 데이터 타입, 열의 개수 등)하기\n",
    "\n"
   ]
  },
  {
   "cell_type": "code",
   "execution_count": null,
   "metadata": {
    "id": "eWbOH9SD8CDr"
   },
   "outputs": [],
   "source": [
    "#수치형 데이터에 대한 통계자료(평균, 최대, 최소등..) 확인하기\n",
    "\n"
   ]
  },
  {
   "cell_type": "code",
   "execution_count": null,
   "metadata": {
    "id": "4nw-YN7o8LEv"
   },
   "outputs": [],
   "source": [
    "#하위 10개 데이터 확인하기\n",
    "\n"
   ]
  },
  {
   "cell_type": "markdown",
   "metadata": {
    "id": "GIQKLzVx5Cd1"
   },
   "source": [
    "###3.혼인건수와 출생아수 데이터 재정리하기"
   ]
  },
  {
   "cell_type": "code",
   "execution_count": null,
   "metadata": {
    "id": "aS3JX38O9A49"
   },
   "outputs": [],
   "source": [
    "#열이름 변경하기\n",
    "#변수명.rename(columns = {‘열이름’:‘새로운 열이름’}, inplace= True)\n",
    "#출생아수(명)->출생아수\n",
    "#혼인건수(건)->혼인건수\n",
    "\n",
    "\n"
   ]
  },
  {
   "cell_type": "code",
   "execution_count": null,
   "metadata": {
    "id": "L1Ce68LQ9sC7"
   },
   "outputs": [],
   "source": [
    "#2010년도~2021년도 데이터 행 찾기\n",
    "\n"
   ]
  },
  {
   "cell_type": "code",
   "execution_count": null,
   "metadata": {
    "id": "senie29S-5je"
   },
   "outputs": [],
   "source": [
    "#2010년도~2021년도 데이터 행 저장하기\n",
    "\n",
    "numData =\n"
   ]
  },
  {
   "cell_type": "code",
   "execution_count": null,
   "metadata": {
    "id": "sZjHR35b_A46"
   },
   "outputs": [],
   "source": [
    "# 2010년이 10번째 행임으로 index 정리하고 확인하기\n",
    "#변수명.reset_index(drop=True, inplace=True)\n",
    "\n",
    "\n"
   ]
  },
  {
   "cell_type": "markdown",
   "metadata": {
    "id": "y-PvwS87EIUO"
   },
   "source": [
    "###4.시각적으로 분석하며 질문에 답하기"
   ]
  },
  {
   "cell_type": "markdown",
   "metadata": {
    "id": "8zfJFjd75IZp"
   },
   "source": [
    "####1)한글 지원하기"
   ]
  },
  {
   "cell_type": "code",
   "execution_count": null,
   "metadata": {
    "id": "gecw2Li45CRF"
   },
   "outputs": [],
   "source": [
    "#차트에 한글 지원하기\n",
    "!pip install koreanize-matplotlib\n",
    "import koreanize_matplotlib"
   ]
  },
  {
   "cell_type": "markdown",
   "metadata": {
    "id": "ueV-vUju5MLt"
   },
   "source": [
    "####2)차트를 생성하기 위한 라이브러리 읽어오기\n"
   ]
  },
  {
   "cell_type": "code",
   "execution_count": null,
   "metadata": {
    "id": "MaVX9FH0565-"
   },
   "outputs": [],
   "source": []
  },
  {
   "cell_type": "markdown",
   "metadata": {
    "id": "LqW0sfsd5PBO"
   },
   "source": [
    "####3) 혼인건수가 가장 적은 년도와 가장 많은 년도는 언제인가?\n"
   ]
  },
  {
   "cell_type": "code",
   "execution_count": null,
   "metadata": {
    "id": "xDFSwjew8mtj"
   },
   "outputs": [],
   "source": [
    "#년도에 따른 혼인건수를 plot차트로 생성하기\n",
    "#plt.plot(y축데이터)\n",
    "#plt.show()\n",
    "\n",
    "\n"
   ]
  },
  {
   "cell_type": "code",
   "execution_count": null,
   "metadata": {
    "id": "EaKtxxvQGfGS"
   },
   "outputs": [],
   "source": [
    "#x축의 눈금값이 모두 나타나도록 차트 수정하기\n",
    "\n",
    "#plt.xticks(range(눈금값), 레이블)\n",
    "#- 눈금값: x, y 축 눈금에 표시할 눈금(range(), numpy.arrange())\n",
    "#- 레이블: 눈금값으로 표시할 레이블로 튜플이나 리스트로 설정\n",
    "\n",
    "\n",
    "plt.show()"
   ]
  },
  {
   "cell_type": "markdown",
   "metadata": {
    "id": "M74Kgelr5XEU"
   },
   "source": [
    "####4) 출생아수가 가장 적은 년도와 가장 많은 년도는 언제인가?\n"
   ]
  },
  {
   "cell_type": "code",
   "execution_count": null,
   "metadata": {
    "id": "QjgAvUVVLkgR"
   },
   "outputs": [],
   "source": [
    "#년도에 따른 혼인건수를 plot차트로 생성하기\n",
    "#plt.plot(y축데이터)\n",
    "#y축데이터: 출생아수\n",
    "\n",
    "\n",
    "\n",
    "plt.show()"
   ]
  },
  {
   "cell_type": "markdown",
   "metadata": {
    "id": "Ed5AnMNF5Yyc"
   },
   "source": [
    "####5) 출생아수가 혼인건수에 영향이 있는가?"
   ]
  },
  {
   "cell_type": "code",
   "execution_count": null,
   "metadata": {
    "id": "paRcDyx7L8b8"
   },
   "outputs": [],
   "source": [
    "##년도에 따른 혼인건수와 출생아수를 하나의 plot차트로 생성하기(범례 삽입)\n",
    "#plt.plot(y축데이터, label='범례이름')\n",
    "# label='범례이름': plot 차트 선의 이름\n",
    "#plt.legend(): 범례를 차트내에 표시\n",
    "\n",
    "\n",
    "\n",
    "\n",
    "\n",
    "\n",
    "\n",
    "\n",
    "plt.show()"
   ]
  },
  {
   "cell_type": "markdown",
   "metadata": {
    "id": "61cWXzTz5nzN"
   },
   "source": [
    "####6) 차트 꾸며보기"
   ]
  },
  {
   "cell_type": "code",
   "execution_count": null,
   "metadata": {
    "id": "1GE1IPS9M8EL"
   },
   "outputs": [],
   "source": [
    "#모든 차트에 marker 추가하고 '출생아수' 차트의 markersize 조절하기\n",
    "#marker='마커종류': 선 위에 표현할 마커 모양 설정\n",
    "#markersize=정수: 마커의 크기 변경\n",
    "\n",
    "\n",
    "\n",
    "\n",
    "\n",
    "\n",
    "\n",
    "plt.show()"
   ]
  },
  {
   "cell_type": "code",
   "execution_count": null,
   "metadata": {
    "id": "kI-jMs84NSyZ"
   },
   "outputs": [],
   "source": [
    "#모든 차트에 linestyle 추가하고 출생아수 차트의 선두께 조절하기\n",
    "#linestyle='선종류': 선의 모양 설정\n",
    "#linewidth=정수: 선 두께 설정\n",
    "\n",
    "\n",
    "\n",
    "\n",
    "\n",
    "\n",
    "plt.show()"
   ]
  },
  {
   "cell_type": "code",
   "execution_count": null,
   "metadata": {
    "id": "kXwW3SBxNtVT"
   },
   "outputs": [],
   "source": [
    "#차트 색상 변경하기\n",
    "#color='색상': 선 색상 설정\n",
    "\n",
    "\n",
    "\n",
    "\n",
    "\n",
    "\n",
    "plt.show()"
   ]
  },
  {
   "cell_type": "code",
   "execution_count": null,
   "metadata": {
    "id": "JvVTWJVuO0Gy"
   },
   "outputs": [],
   "source": [
    "#혼인건수 차트의 색상, 마커, 선종류를 약식으로 표현해보기\n",
    "#'ro:' : color='r', marker='o', linestyle='-'\n",
    "\n",
    "\n",
    "\n",
    "\n",
    "\n",
    "\n",
    "plt.show()"
   ]
  },
  {
   "cell_type": "code",
   "execution_count": null,
   "metadata": {
    "id": "uEBpZhEXPeYF"
   },
   "outputs": [],
   "source": [
    "#차트제목, XY 레이블, grid 지정해보기\n",
    "#plt.title('차트제목') :지정한 차트제목을 차트 중앙 상단에 표시\n",
    "#plt.xlabel('x축제목'), plt.ylabel('y축제목') : x축과 y축의 제목을 지정한 문자열로 설정\n",
    "#plt.ylim(처음값, 마지막값)\n",
    "#plt.grid() : 차트내에 눈금선 표시\n",
    "\n",
    "\n",
    "\n",
    "\n",
    "\n",
    "\n",
    "\n",
    "\n",
    "\n",
    "\n",
    "\n",
    "\n",
    "plt.show()"
   ]
  },
  {
   "cell_type": "code",
   "execution_count": null,
   "metadata": {
    "id": "dfHQxl1vQNPv"
   },
   "outputs": [],
   "source": []
  }
 ],
 "metadata": {
  "colab": {
   "provenance": []
  },
  "kernelspec": {
   "display_name": "Python 3 (ipykernel)",
   "language": "python",
   "name": "python3"
  },
  "language_info": {
   "codemirror_mode": {
    "name": "ipython",
    "version": 3
   },
   "file_extension": ".py",
   "mimetype": "text/x-python",
   "name": "python",
   "nbconvert_exporter": "python",
   "pygments_lexer": "ipython3",
   "version": "3.11.5"
  }
 },
 "nbformat": 4,
 "nbformat_minor": 1
}
